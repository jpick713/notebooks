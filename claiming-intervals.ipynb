{
  "metadata": {
    "language_info": {
      "codemirror_mode": {
        "name": "python",
        "version": 3
      },
      "file_extension": ".py",
      "mimetype": "text/x-python",
      "name": "python",
      "nbconvert_exporter": "python",
      "pygments_lexer": "ipython3",
      "version": "3.8"
    },
    "kernelspec": {
      "name": "python",
      "display_name": "Python (Pyodide)",
      "language": "python"
    }
  },
  "nbformat_minor": 4,
  "nbformat": 4,
  "cells": [
    {
      "cell_type": "code",
      "source": "def nextBaseStep(fromIdx, toIdx, baseAggr=100):\n    # get next loan idx that is closest in terms of mod baseAggr\n    nextIdx = (fromIdx // baseAggr + 1) * baseAggr\n    # make sure next doesn't \"overstep\" toIdx\n    return min([nextIdx, toIdx])\n\ndef buildBaseAggrRanges(loanIdxsWhereSharesChanged, baseAggr=100):\n    baseAggrRanges = loanIdxsWhereSharesChanged.copy()\n    i = 0\n    n = len(baseAggrRanges) - 1\n    while (i < n):\n        # get next loan idx in terms of mod baseAggr\n        nextStep = nextBaseStep(baseAggrRanges[i], baseAggrRanges[i+1], baseAggr)\n        # make sure we don't insert duplicates\n        if (nextStep != baseAggrRanges[i+1]):\n            baseAggrRanges.insert(i+1, nextStep)\n            n = len(baseAggrRanges) - 1\n        i += 1\n    return baseAggrRanges\n\ndef prune(baseRanges, pruneBy=1000):\n    pruned = [baseRanges[0]]\n    i = 0\n    n = len(baseRanges)\n    while (i < n):\n        # make sure we don't insert duplicates\n        if pruned[-1] != baseRanges[i]:\n            pruned.append(baseRanges[i])\n        # check if loan idx is potentially starting point for range that can be pruned\n        if baseRanges[i] % pruneBy == 0 and i + 10 < n:\n            canBePruned = True\n            for j in range(10):\n                # check that next next 10 loan idxs can all be pruned\n                if baseRanges[i+j+1] % (pruneBy/10) != 0:\n                    canBePruned = False\n                    break\n            # if range can be pruned, add the 10th item and move forward by 10\n            if canBePruned:\n                pruned.append(baseRanges[i+j+1])\n                i += 10\n            else:\n                i += 1\n        else:\n            i += 1\n    return pruned\n\ndef packIntoClaimingTxs(pruned):\n    packed = []\n    i = 0\n    n = len(pruned)-1\n    while (i < n):\n        consecutive100 = pruned[i] % 100 == 0 and pruned[i+1] % 100 == 0\n        consecutive1000 = pruned[i] % 1000 == 0 and pruned[i+1] % 1000 == 0\n        consecutive10000 = pruned[i] % 10000 == 0 and pruned[i+1] % 10000 == 0\n        if (consecutive100 or consecutive1000 or consecutive10000):\n            j = 0\n            tmp = [pruned[i]]\n            while (i+j+1 < n):\n                diff = 100 if consecutive100 else (1000 if consecutive1000 else 10000)\n                if (pruned[i+j+1] - pruned[i]) % diff == 0:\n                    tmp.append(pruned[i+j+1])\n                    j += 1\n                else:\n                    break\n            i += j\n            packed.append(tmp)\n        else:\n            packed.append([pruned[i], pruned[i+1]])\n            i += 1\n    return packed\n            \n            \n# example array of where LP changed position\nloanIdxsWhereSharesChanged = [4,2600]\n\n# first construct array with \"intermediate\" steps according to baseAggr\nbaseAggrRanges = buildBaseAggrRanges(loanIdxsWhereSharesChanged, 100)\nprint(\"baseAggrRanges:\\n\", baseAggrRanges, \"\\n\")\n\n# next, try pruning by 1'000 intervals\nprunedBy1000 = prune(baseAggrRanges, 1000)\nprint(\"prunedBy1000:\\n\", prunedBy1000, \"\\n\")\n\n# finally, try pruning by 10'000 intervals\nprunedBy10000 = prune(prunedBy1000, 10000)\nprint(\"prunedBy10000:\\n\", prunedBy10000, \"\\n\")\n\n# get packed claiming intervals\npacked = packIntoClaimingTxs(prunedBy10000)\nprint(\"packed:\\n\", packed, \"\\n\")\n\nprint(\"loanIdxsWhereSharesChanged: \", loanIdxsWhereSharesChanged)\nprint(\"changed position {} times\".format(len(loanIdxsWhereSharesChanged)))\nprint(\"need to claim {} times\".format(len(packed), \"\\n\"))",
      "metadata": {
        "trusted": true
      },
      "execution_count": 2,
      "outputs": [
        {
          "name": "stdout",
          "text": "baseAggrRanges:\n [4, 100, 200, 300, 400, 500, 600, 700, 800, 900, 1000, 1100, 1200, 1300, 1400, 1500, 1600, 1700, 1800, 1900, 2000, 2100, 2200, 2300, 2400, 2500, 2600] \n\nprunedBy1000:\n [4, 100, 200, 300, 400, 500, 600, 700, 800, 900, 1000, 2000, 2100, 2200, 2300, 2400, 2500, 2600] \n\nprunedBy10000:\n [4, 100, 200, 300, 400, 500, 600, 700, 800, 900, 1000, 2000, 2100, 2200, 2300, 2400, 2500, 2600] \n\n",
          "output_type": "stream"
        },
        {
          "ename": "<class 'MemoryError'>",
          "evalue": "",
          "traceback": [
            "\u001b[0;31m---------------------------------------------------------------------------\u001b[0m",
            "\u001b[0;31mMemoryError\u001b[0m                               Traceback (most recent call last)",
            "\u001b[0;31mMemoryError\u001b[0m: ",
            "\nDuring handling of the above exception, another exception occurred:\n",
            "\u001b[0;31mMemoryError\u001b[0m                               Traceback (most recent call last)",
            "Cell \u001b[0;32mIn [2], line 89\u001b[0m\n\u001b[1;32m     86\u001b[0m \u001b[38;5;28mprint\u001b[39m(\u001b[38;5;124m\"\u001b[39m\u001b[38;5;124mprunedBy10000:\u001b[39m\u001b[38;5;130;01m\\n\u001b[39;00m\u001b[38;5;124m\"\u001b[39m, prunedBy10000, \u001b[38;5;124m\"\u001b[39m\u001b[38;5;130;01m\\n\u001b[39;00m\u001b[38;5;124m\"\u001b[39m)\n\u001b[1;32m     88\u001b[0m \u001b[38;5;66;03m# get packed claiming intervals\u001b[39;00m\n\u001b[0;32m---> 89\u001b[0m packed \u001b[38;5;241m=\u001b[39m \u001b[43mpackIntoClaimingTxs\u001b[49m\u001b[43m(\u001b[49m\u001b[43mprunedBy10000\u001b[49m\u001b[43m)\u001b[49m\n\u001b[1;32m     90\u001b[0m \u001b[38;5;28mprint\u001b[39m(\u001b[38;5;124m\"\u001b[39m\u001b[38;5;124mpacked:\u001b[39m\u001b[38;5;130;01m\\n\u001b[39;00m\u001b[38;5;124m\"\u001b[39m, packed, \u001b[38;5;124m\"\u001b[39m\u001b[38;5;130;01m\\n\u001b[39;00m\u001b[38;5;124m\"\u001b[39m)\n\u001b[1;32m     92\u001b[0m \u001b[38;5;28mprint\u001b[39m(\u001b[38;5;124m\"\u001b[39m\u001b[38;5;124mloanIdxsWhereSharesChanged: \u001b[39m\u001b[38;5;124m\"\u001b[39m, loanIdxsWhereSharesChanged)\n",
            "\u001b[0;31mMemoryError\u001b[0m: "
          ],
          "output_type": "error"
        }
      ]
    },
    {
      "cell_type": "code",
      "source": "",
      "metadata": {},
      "execution_count": null,
      "outputs": []
    }
  ]
}