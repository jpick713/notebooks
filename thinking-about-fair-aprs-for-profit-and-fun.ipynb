{
  "metadata": {
    "language_info": {
      "codemirror_mode": {
        "name": "python",
        "version": 3
      },
      "file_extension": ".py",
      "mimetype": "text/x-python",
      "name": "python",
      "nbconvert_exporter": "python",
      "pygments_lexer": "ipython3",
      "version": "3.8"
    },
    "kernelspec": {
      "name": "python",
      "display_name": "Python (Pyodide)",
      "language": "python"
    }
  },
  "nbformat_minor": 4,
  "nbformat": 4,
  "cells": [
    {
      "cell_type": "markdown",
      "source": "# Thinking about fair APRs for profit and fun\nThis is a short introduction to finding fair APRs for zero-liquidation loans.\n\n## Introduction\nRecall that a zero-liquidation loan can be seen as a swap, where the borrower pledges collateral and receives a loan amount plus an embedded call option. For example, let's assume you pledge 1 ETH worth `$1,500` and you can borrow `$700` against it for 30 days. Now to make the swap fair you should receive a call option which is worth `$800` because this way your position value pre- and post borrow is the same, i.e., nobody is better or worse off than before. Now the question is:\n\n> How should we choose the strike price of the call option such its fair value is `$800`?\n\n## Option Pricing\nThe most simple way to price a call option is to use Black-Scholes. While for our case the Black-Scholes model is a crude over-simplification it nonetheless is a good way to start thinking about how to determine a fair APR.\n\nSo, for a European call option we can apply the following Black-Scholes formula:\n\n$C(S,t) = S \\Phi(d_1) - K e^{-r(T-t)} \\Phi(d_2)$\n\nwhere\n\n$d1 = \\frac{ln(S/K) + (r+\\sigma^2/2)(T-t)}{\\sigma \\sqrt{T-t}}$\n\n$d_2 = d_1 - \\sigma \\sqrt{T-t}$\n\nand\n\n* $S$: current price of the collateral\n* $r$: risk free rate\n* $\\sigma$: price volatility of the collateral \n* $T-t$: tenor of the option\n* $K$: strike price\n\nLet's put that into code:",
      "metadata": {}
    },
    {
      "cell_type": "code",
      "source": "import numpy as np\nfrom scipy.stats import norm\nfrom scipy import optimize\n\ndef getD1(S, K, sigma, optionTenorInYears, r):\n    return (np.log(S / K) + (r + sigma**2 / 2) * optionTenorInYears) / \\\n        (sigma * np.sqrt(optionTenorInYears))\n\ndef getCallValue(\n        spotPrice,\n        strikePrice,\n        sigma,\n        optionTenorInYears,\n        riskFreeRate):\n    if optionTenorInYears <= 0:\n        return max([0, spotPrice - strikePrice])\n    if strikePrice <= 0:\n        return spotPrice\n    d1 = getD1(spotPrice, strikePrice, sigma, optionTenorInYears, riskFreeRate)\n    d2 = d1 - sigma * np.sqrt(optionTenorInYears)\n    return spotPrice * norm.cdf(d1) - strikePrice * \\\n        np.exp(-riskFreeRate * optionTenorInYears) * norm.cdf(d2)",
      "metadata": {
        "trusted": true
      },
      "execution_count": null,
      "outputs": []
    },
    {
      "cell_type": "markdown",
      "source": "### Example: pricing a call\nSo let's assume the ETH price is $\\$1500$ and we want to buy a European call option with strike price $K=\\$702$, a tenor of $T-t=30./365.$ years, and with ETH vol being at $\\sigma=100\\%$ and the risk free rate at $r=2\\%$. \n\nUsing the Black-Scholes model, what would be the fair price of such an option? Let's use our `getCallValue` function above:",
      "metadata": {}
    },
    {
      "cell_type": "code",
      "source": "S = 1500\nK = 702\nsigma = 1.\ntenor = 30./365.\nr = .02\ncallValue = getCallValue(S, K, sigma, tenor, r)\nprint(\"call value is:\", callValue)",
      "metadata": {
        "trusted": true
      },
      "execution_count": null,
      "outputs": []
    },
    {
      "cell_type": "markdown",
      "source": "### Example: thinking about the fairness of the swap and implied APR\nSo we can see that the value of such a call option should be around $\\approx \\$800$. So if we were to swap 1 ETH ($=\\$1500$) to received a loan of $\\$700$ as well as this call option worth $\\$800$ then we wouldn't be better or worse off, i.e., this swap would be fair.\n\nLet's think about what that means in terms of APR. Let $L=\\$700$ denote your loan amount. Now if you end up repaying the strike price $K=\\$702$ to reclaim your collateral prior to expiry of the loan, i.e., within $\\Delta T=30/365 \\; years$ then on an annualized basis your percentage interest cost would be $APR = \\Big(\\frac{K}{L}-1\\Big) \\cdot \\frac{1}{\\Delta T}$, or continuing our code example:",
      "metadata": {}
    },
    {
      "cell_type": "code",
      "source": "L = 700.\nK = 702.\ndT = 30./365\nAPR = (K/L-1)/dT\nprint(\"APR is:\", APR)",
      "metadata": {
        "trusted": true
      },
      "execution_count": 3,
      "outputs": [
        {
          "name": "stdout",
          "text": "APR is: 0.03476190476190518\n",
          "output_type": "stream"
        }
      ]
    },
    {
      "cell_type": "markdown",
      "source": "So this means that the implied fair APR would be $3.5\\%$.\n\n### Finding fair strike price = minimization problem\nIn the previous example we were lucky because our initial guess for the strike price turned out to result in a option price that indeed made the swap fair for the given loan amount. But what if we wanted to find such a strike price for any kind of loan amount?\n\nBasically, given the current spot price $S$ and loan amount $L$ we're interested in finding $K^*$ such that the following equation holds:\n\n$S = L + C(K^*)$\n\nWe can translate this into the following minimization problem:\n\n$K^* = \\arg \\min_{K} \\Big(S - L - C(K)\\Big)^2$\n\nand use scipy's optimization library for this:",
      "metadata": {}
    },
    {
      "cell_type": "code",
      "source": "def getEquilibriumCallStrike(\n        CTokenIn,\n        fees,\n        BTokenOut,\n        spotPrice,\n        sigma,\n        optionTenorInYears,\n        riskFreeRate):\n    def minFunc(\n            strikePrice,\n            fees,\n            CTokenIn,\n            BTokenOut,\n            spotPrice,\n            sigma,\n            optionTenorInYears,\n            riskFreeRate):\n        callValue = getCallValue(\n            spotPrice,\n            strikePrice,\n            sigma,\n            optionTenorInYears,\n            riskFreeRate)\n        return (callValue * CTokenIn * (1 - fees) +\n                BTokenOut - CTokenIn * spotPrice)**2\n    args = (\n        fees,\n        CTokenIn,\n        BTokenOut,\n        spotPrice,\n        sigma,\n        optionTenorInYears,\n        riskFreeRate)\n    initialStrikeGuess = spotPrice\n    strikeBounds = (0.1, None)\n    res = optimize.minimize(\n        minFunc,\n        args=args,\n        x0=[initialStrikeGuess],\n        bounds=[strikeBounds])\n    return res['x'][0]",
      "metadata": {
        "trusted": true
      },
      "execution_count": 4,
      "outputs": []
    },
    {
      "cell_type": "markdown",
      "source": "For example, let's assume we wanted to have a higher loan amount of $L=\\$ 1000$, then the corresponding fair strike price can be found by using our previously defined `getEquilibriumCallStrike` function, i.e.:",
      "metadata": {}
    },
    {
      "cell_type": "code",
      "source": "CTokenIn = 1\nfees = 0\nBTokenOut = 1000\nspotPrice = 1500\nsigma = 1.\noptionTenorInYears = 30./365.\nriskFreeRate = .02\nfairK = getEquilibriumCallStrike(\n    CTokenIn,\n    fees,\n    BTokenOut,\n    spotPrice,\n    sigma,\n    optionTenorInYears,\n    riskFreeRate)\nimpliedAPR = (fairK/BTokenOut-1)/optionTenorInYears\n\nprint(\"the fair strike K is:\", fairK)\nprint(\"the implied APR is:\", impliedAPR)",
      "metadata": {
        "trusted": true
      },
      "execution_count": 5,
      "outputs": [
        {
          "name": "stdout",
          "text": "the fair strike K is: 1015.5245698262931\nthe implied APR is: 0.18888226621989979\n",
          "output_type": "stream"
        }
      ]
    },
    {
      "cell_type": "markdown",
      "source": "So we can see that the fair strike $K^* = \\$ 1015.5$ as well as the implied $APR = 19 \\%$ are now higher then in the previous example. Intuitively, this also makes sense because the LTV of the loan is now higher, which means that LPs bear more risk and hence expect to receive a higher APR to be compensated for this.\n\nSimilarly, we would expect that the fair APR should increase for longer tenors, but let's verify. For this we can create a heatmap to quickly get a sense of how the APR changes across different LTV and tenor combinations:",
      "metadata": {}
    },
    {
      "cell_type": "code",
      "source": "import matplotlib.pyplot as plt\n\nCTokenIn = 1\nfees = 0\nspotPrice = 1500\nsigma = 1.\nriskFreeRate = .02\n\nltvs = np.array([0.2, 0.3, 0.4, 0.5, 0.6, 0.7, 0.8])\nBTokenOuts = ltvs * spotPrice\ntenorsInDays = np.array([1, 5, 10, 15, 20, 25, 30, 40, 50, 60])\n\nplotData = []\nfor BTokenOut in BTokenOuts:\n    tmp = []\n    for tenor in tenorsInDays:\n        fairK = getEquilibriumCallStrike(\n            CTokenIn,\n            fees,\n            BTokenOut,\n            spotPrice,\n            sigma,\n            tenor/365.,\n            riskFreeRate)\n        impliedAPR = (fairK/BTokenOut-1)/(tenor/365.)\n        tmp.append(impliedAPR)\n    plotData.append(tmp)\nfig, ax = plt.subplots()\nim = ax.imshow(plotData, cmap=\"Blues\")\n\n# Rotate the tick labels and set their alignment.\nplt.setp(ax.get_xticklabels(), rotation=45, ha=\"right\",\n         rotation_mode=\"anchor\")\n\n# Loop over data dimensions and create text annotations.\nfor i in range(len(ltvs)):\n    for j in range(len(tenorsInDays)):\n        text = ax.text(j, i, str(round(100*plotData[i][j],1)) + \"%\",\n                       ha=\"center\", va=\"center\", color=\"black\", size=\"x-small\")\n\n# Show all ticks and label them with the respective list entries\nax.set_xticks(np.arange(len(tenorsInDays)), labels=tenorsInDays)\nax.set_yticks(np.arange(len(ltvs)), labels=ltvs)\nax.set_xlabel('Tenor (days)')\nax.set_ylabel('LTV')\n\nax.set_title(\"Black-Scholes fair APRs (vol=100%)\")\nfig.tight_layout()\nplt.show()",
      "metadata": {
        "trusted": true
      },
      "execution_count": null,
      "outputs": []
    },
    {
      "cell_type": "markdown",
      "source": "And indeed can see that the Black-Scholes derived fair APRs increase for higher LTVs and longer tenors. We can also rerun the heatmap with $\\sigma=150\\%$ to see how a higher volatility level affects fair APRs:",
      "metadata": {}
    },
    {
      "cell_type": "code",
      "source": "import matplotlib.pyplot as plt\n\nCTokenIn = 1\nfees = 0\nspotPrice = 1500\nsigma = 1.5\nriskFreeRate = .02\n\nltvs = np.array([0.2, 0.3, 0.4, 0.5, 0.6, 0.7, 0.8])\nBTokenOuts = ltvs * spotPrice\ntenorsInDays = np.array([1, 5, 10, 15, 20, 25, 30, 40, 50, 60])\n\nplotData = []\nfor BTokenOut in BTokenOuts:\n    tmp = []\n    for tenor in tenorsInDays:\n        fairK = getEquilibriumCallStrike(\n            CTokenIn,\n            fees,\n            BTokenOut,\n            spotPrice,\n            sigma,\n            tenor/365.,\n            riskFreeRate)\n        impliedAPR = (fairK/BTokenOut-1)/(tenor/365.)\n        tmp.append(impliedAPR)\n    plotData.append(tmp)\nfig, ax = plt.subplots()\nim = ax.imshow(plotData, cmap=\"Reds\")\n\n# Rotate the tick labels and set their alignment.\nplt.setp(ax.get_xticklabels(), rotation=45, ha=\"right\",\n         rotation_mode=\"anchor\")\n\n# Loop over data dimensions and create text annotations.\nfor i in range(len(ltvs)):\n    for j in range(len(tenorsInDays)):\n        text = ax.text(j, i, str(round(100*plotData[i][j],1)) + \"%\",\n                       ha=\"center\", va=\"center\", color=\"black\", size=\"x-small\")\n\n# Show all ticks and label them with the respective list entries\nax.set_xticks(np.arange(len(tenorsInDays)), labels=tenorsInDays)\nax.set_yticks(np.arange(len(ltvs)), labels=ltvs)\nax.set_xlabel('Tenor (days)')\nax.set_ylabel('LTV')\n\nax.set_title(\"Black-Scholes fair APRs (vol=150%)\")\nfig.tight_layout()\nplt.show()",
      "metadata": {
        "trusted": true
      },
      "execution_count": null,
      "outputs": []
    },
    {
      "cell_type": "markdown",
      "source": "As expected, we can see that a higher volatility level generally leads to higher APRs as well as a more pronounced differences between the individual LTV-vs-tenor APR combinations. Lastly, for a given tenor of e.g. 14 days we can also plot fair APRs across different LTV and volatility scenarios.",
      "metadata": {}
    },
    {
      "cell_type": "code",
      "source": "import matplotlib.pyplot as plt\n\nCTokenIn = 1\nfees = 0\nspotPrice = 1500\ntenor = 14./365\nriskFreeRate = .02\n\nltvs = np.array([0.2, 0.3, 0.4, 0.5, 0.6, 0.7, 0.8])\nBTokenOuts = ltvs * spotPrice\nvols = np.arange(.5,2.,.1)\n\nplotData = []\nfor BTokenOut in BTokenOuts:\n    tmp = []\n    for vol in vols:\n        fairK = getEquilibriumCallStrike(\n            CTokenIn,\n            fees,\n            BTokenOut,\n            spotPrice,\n            vol,\n            tenor,\n            riskFreeRate)\n        impliedAPR = (fairK/BTokenOut-1)/(tenor/365.)\n        tmp.append(impliedAPR)\n    plotData.append(tmp)\nfig, ax = plt.subplots()\nim = ax.imshow(plotData, cmap=\"Reds\")\n\n# Rotate the tick labels and set their alignment.\nplt.setp(ax.get_xticklabels(), rotation=45, ha=\"right\",\n         rotation_mode=\"anchor\")\n\n# Loop over data dimensions and create text annotations.\nfor i in range(len(ltvs)):\n    for j in range(len(vols)):\n        text = ax.text(j, i, str(round(100*plotData[i][j],1)) + \"%\",\n                       ha=\"center\", va=\"center\", color=\"black\", size=\"x-small\")\n\n# Show all ticks and label them with the respective list entries\nax.set_xticks(np.arange(len(vols)), labels=np.round(vols, 2))\nax.set_yticks(np.arange(len(ltvs)), labels=ltvs)\nax.set_xlabel('Vol')\nax.set_ylabel('LTV')\n\nax.set_title(\"Black-Scholes fair APRs (tenor=14 days)\")\nfig.tight_layout()\nplt.show()",
      "metadata": {
        "trusted": true
      },
      "execution_count": null,
      "outputs": []
    }
  ]
}